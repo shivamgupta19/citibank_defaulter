{
 "cells": [
  {
   "cell_type": "markdown",
   "metadata": {
    "colab_type": "text",
    "id": "tvtdE_xnGTWr"
   },
   "source": [
    "# Buisness Problem:- Citibank defaulters\n",
    "\n",
    "Help Citibank predict defaulters! Citibank has hired you as a Machine Learning Expert to detect default in their newly launched Citi Gold Card. They have hired you as an Machine Learning and FinTech expert. This is an extremely time sensitive and urgent project as defaulters cause substantial loss to the system. They are willing to compensate heavily! Defaulters cause annually over ~ USD 50 Billion in losses."
   ]
  },
  {
   "cell_type": "markdown",
   "metadata": {
    "colab_type": "text",
    "id": "8qAUm9-AGTWs"
   },
   "source": [
    "### Variable description\n",
    "\n",
    "Y: Client's behavior (target); Y=0 then not default, Y=1 then default.\n",
    "\n",
    "X1 - Amount of the given credit (NT dollar): it includes both the individual consumer credit and his/her family \n",
    "    (supplementary) credit.\n",
    "\n",
    "X2 -Gender (1 = male; 2 = female).\n",
    "\n",
    "X3 - Education (1 = graduate school; 2 = university; 3 = high school; 0,4,5,6 = others).\n",
    "\n",
    "X4 - Marital status (1 = married; 2 = single; 3 = divorce; 0=others).\n",
    "\n",
    "X5 - Age (year).\n",
    "\n",
    "X6-X11 - History of past payment. We tracked the past monthly payment records (from April to September, 2005) as follows: X6 = the repayment status in September, 2005; X7 = the repayment status in August, 2005; . . .;X11 = the repayment status in April, 2005. The measurement scale for the repayment status is: -2 = No consumption; -1 = pay duly; ; 0: The use of revolving credit; 1 = payment delay for one month; 2 = payment delay for two months; . . .; 8 = payment delay for eight months; 9 = payment delay for nine months and above\n",
    "\n",
    "X12-X17 - Amount of bill statement (NT dollar). X12 = amount of bill statement in September, 2005; X13 = amount of bill statement in August, 2005; . . .; X17 = amount of bill statement in April, 2005.\n",
    "\n",
    "X18-X23 - Amount of previous payment (NT dollar). X18 = amount paid in September, 2005; X19 = amount paid in August, 2005; . . .;X23 = amount paid in April, 2005."
   ]
  },
  {
   "cell_type": "code",
   "execution_count": 0,
   "metadata": {
    "colab": {},
    "colab_type": "code",
    "id": "dkR23TTbGxd8"
   },
   "outputs": [],
   "source": [
    "# path = \"/content/drive/My Drive/Colab Notebooks/train_1.csv\"\n"
   ]
  },
  {
   "cell_type": "code",
   "execution_count": 0,
   "metadata": {
    "colab": {},
    "colab_type": "code",
    "id": "uYjJANG2OSac"
   },
   "outputs": [],
   "source": [
    "# path1 = '/content/drive/My Drive/Colab Notebooks/test.csv'"
   ]
  },
  {
   "cell_type": "code",
   "execution_count": 0,
   "metadata": {
    "colab": {},
    "colab_type": "code",
    "id": "Uj1WcfdWHN_H"
   },
   "outputs": [],
   "source": [
    "# Demonstrate imblearn package install\n",
    "\n",
    "# !pip install imblearn"
   ]
  },
  {
   "cell_type": "code",
   "execution_count": 3,
   "metadata": {
    "colab": {},
    "colab_type": "code",
    "id": "_0rlLL4gGTWt"
   },
   "outputs": [],
   "source": [
    "# import necessary libraries\n",
    "import numpy as np\n",
    "import pandas as pd\n",
    "import csv\n",
    "import scipy.stats as stats\n",
    "import matplotlib.pyplot as plt\n",
    "import seaborn as sns\n",
    "from sklearn.metrics import accuracy_score\n",
    "import warnings\n",
    "warnings.filterwarnings('ignore')\n",
    "# from imblearn.over_sampling import SMOTE\n",
    "import scipy.stats as stats\n",
    "from sklearn.preprocessing import StandardScaler\n",
    "from sklearn.preprocessing import Normalizer\n",
    "\n",
    "from sklearn.model_selection import train_test_split\n",
    "from sklearn.model_selection import KFold\n",
    "from sklearn.model_selection import cross_validate\n",
    "from sklearn.model_selection import GridSearchCV\n",
    "\n",
    "from sklearn.linear_model import LogisticRegression\n",
    "from sklearn.neighbors import KNeighborsClassifier\n",
    "from sklearn.naive_bayes import GaussianNB\n",
    "from sklearn.ensemble import RandomForestClassifier\n",
    "from sklearn.tree import DecisionTreeClassifier\n",
    "\n",
    "from sklearn.ensemble import BaggingClassifier\n",
    "from sklearn.ensemble import BaggingRegressor\n",
    "from sklearn.ensemble import AdaBoostClassifier\n",
    "from sklearn.ensemble import AdaBoostRegressor\n",
    "from sklearn.ensemble import GradientBoostingClassifier"
   ]
  },
  {
   "cell_type": "code",
   "execution_count": 5,
   "metadata": {
    "colab": {},
    "colab_type": "code",
    "id": "Z_4MezC_GTWy"
   },
   "outputs": [],
   "source": [
    "# load the train_1 dataset\n",
    "# citi = pd.read_csv('train_1.csv')\n",
    "citi = pd.read_csv('train_1.csv')"
   ]
  },
  {
   "cell_type": "code",
   "execution_count": 6,
   "metadata": {
    "colab": {
     "base_uri": "https://localhost:8080/",
     "height": 33
    },
    "colab_type": "code",
    "id": "YFwMQMBTGTW1",
    "outputId": "ffc82936-1796-4d13-efe3-6e98c968a945"
   },
   "outputs": [
    {
     "data": {
      "text/plain": [
       "(21600, 9)"
      ]
     },
     "execution_count": 6,
     "metadata": {},
     "output_type": "execute_result"
    }
   ],
   "source": [
    "# using shape to get the idea of number of columns and rows in dataset\n",
    "citi.shape"
   ]
  },
  {
   "cell_type": "code",
   "execution_count": 7,
   "metadata": {
    "colab": {
     "base_uri": "https://localhost:8080/",
     "height": 196
    },
    "colab_type": "code",
    "id": "Fk_iwt7lGTW6",
    "outputId": "88edecbf-2e93-4542-b3e4-eea93adb679d"
   },
   "outputs": [
    {
     "data": {
      "text/html": [
       "<div>\n",
       "<style scoped>\n",
       "    .dataframe tbody tr th:only-of-type {\n",
       "        vertical-align: middle;\n",
       "    }\n",
       "\n",
       "    .dataframe tbody tr th {\n",
       "        vertical-align: top;\n",
       "    }\n",
       "\n",
       "    .dataframe thead th {\n",
       "        text-align: right;\n",
       "    }\n",
       "</style>\n",
       "<table border=\"1\" class=\"dataframe\">\n",
       "  <thead>\n",
       "    <tr style=\"text-align: right;\">\n",
       "      <th></th>\n",
       "      <th>Ref.No</th>\n",
       "      <th>X1</th>\n",
       "      <th>X2</th>\n",
       "      <th>X3</th>\n",
       "      <th>X4</th>\n",
       "      <th>X5</th>\n",
       "      <th>X6</th>\n",
       "      <th>X7</th>\n",
       "      <th>Y</th>\n",
       "    </tr>\n",
       "  </thead>\n",
       "  <tbody>\n",
       "    <tr>\n",
       "      <th>0</th>\n",
       "      <td>22203</td>\n",
       "      <td>320000</td>\n",
       "      <td>2</td>\n",
       "      <td>1</td>\n",
       "      <td>2</td>\n",
       "      <td>27</td>\n",
       "      <td>1</td>\n",
       "      <td>2</td>\n",
       "      <td>1</td>\n",
       "    </tr>\n",
       "    <tr>\n",
       "      <th>1</th>\n",
       "      <td>1288</td>\n",
       "      <td>470000</td>\n",
       "      <td>1</td>\n",
       "      <td>2</td>\n",
       "      <td>1</td>\n",
       "      <td>41</td>\n",
       "      <td>-2</td>\n",
       "      <td>-2</td>\n",
       "      <td>0</td>\n",
       "    </tr>\n",
       "    <tr>\n",
       "      <th>2</th>\n",
       "      <td>11822</td>\n",
       "      <td>20000</td>\n",
       "      <td>1</td>\n",
       "      <td>2</td>\n",
       "      <td>2</td>\n",
       "      <td>25</td>\n",
       "      <td>1</td>\n",
       "      <td>2</td>\n",
       "      <td>0</td>\n",
       "    </tr>\n",
       "    <tr>\n",
       "      <th>3</th>\n",
       "      <td>15085</td>\n",
       "      <td>80000</td>\n",
       "      <td>1</td>\n",
       "      <td>3</td>\n",
       "      <td>1</td>\n",
       "      <td>41</td>\n",
       "      <td>0</td>\n",
       "      <td>0</td>\n",
       "      <td>1</td>\n",
       "    </tr>\n",
       "    <tr>\n",
       "      <th>4</th>\n",
       "      <td>6192</td>\n",
       "      <td>30000</td>\n",
       "      <td>1</td>\n",
       "      <td>1</td>\n",
       "      <td>2</td>\n",
       "      <td>30</td>\n",
       "      <td>1</td>\n",
       "      <td>-2</td>\n",
       "      <td>1</td>\n",
       "    </tr>\n",
       "  </tbody>\n",
       "</table>\n",
       "</div>"
      ],
      "text/plain": [
       "   Ref.No      X1  X2  X3  X4  X5  X6  X7  Y\n",
       "0   22203  320000   2   1   2  27   1   2  1\n",
       "1    1288  470000   1   2   1  41  -2  -2  0\n",
       "2   11822   20000   1   2   2  25   1   2  0\n",
       "3   15085   80000   1   3   1  41   0   0  1\n",
       "4    6192   30000   1   1   2  30   1  -2  1"
      ]
     },
     "execution_count": 7,
     "metadata": {},
     "output_type": "execute_result"
    }
   ],
   "source": [
    "citi.head()"
   ]
  },
  {
   "cell_type": "code",
   "execution_count": 8,
   "metadata": {
    "colab": {
     "base_uri": "https://localhost:8080/",
     "height": 33
    },
    "colab_type": "code",
    "id": "332lmm3PGTW-",
    "outputId": "84ee39a4-b995-4095-a4bc-b16f57d081d7"
   },
   "outputs": [
    {
     "data": {
      "text/plain": [
       "0"
      ]
     },
     "execution_count": 8,
     "metadata": {},
     "output_type": "execute_result"
    }
   ],
   "source": [
    "# checking for null/ missing values\n",
    "citi.isna().sum().sum()"
   ]
  },
  {
   "cell_type": "code",
   "execution_count": 9,
   "metadata": {
    "colab": {
     "base_uri": "https://localhost:8080/",
     "height": 306
    },
    "colab_type": "code",
    "id": "ISFom9YeGTXD",
    "outputId": "bf73a254-4408-401d-e845-abfec91784fe"
   },
   "outputs": [
    {
     "data": {
      "text/html": [
       "<div>\n",
       "<style scoped>\n",
       "    .dataframe tbody tr th:only-of-type {\n",
       "        vertical-align: middle;\n",
       "    }\n",
       "\n",
       "    .dataframe tbody tr th {\n",
       "        vertical-align: top;\n",
       "    }\n",
       "\n",
       "    .dataframe thead th {\n",
       "        text-align: right;\n",
       "    }\n",
       "</style>\n",
       "<table border=\"1\" class=\"dataframe\">\n",
       "  <thead>\n",
       "    <tr style=\"text-align: right;\">\n",
       "      <th></th>\n",
       "      <th>Ref.No</th>\n",
       "      <th>X1</th>\n",
       "      <th>X2</th>\n",
       "      <th>X3</th>\n",
       "      <th>X4</th>\n",
       "      <th>X5</th>\n",
       "      <th>X6</th>\n",
       "      <th>X7</th>\n",
       "      <th>Y</th>\n",
       "    </tr>\n",
       "  </thead>\n",
       "  <tbody>\n",
       "    <tr>\n",
       "      <th>count</th>\n",
       "      <td>21600.000000</td>\n",
       "      <td>21600.000000</td>\n",
       "      <td>21600.000000</td>\n",
       "      <td>21600.000000</td>\n",
       "      <td>21600.000000</td>\n",
       "      <td>21600.000000</td>\n",
       "      <td>21600.000000</td>\n",
       "      <td>21600.000000</td>\n",
       "      <td>21600.000000</td>\n",
       "    </tr>\n",
       "    <tr>\n",
       "      <th>mean</th>\n",
       "      <td>12000.773750</td>\n",
       "      <td>165235.818519</td>\n",
       "      <td>1.626991</td>\n",
       "      <td>1.845926</td>\n",
       "      <td>1.558704</td>\n",
       "      <td>35.382361</td>\n",
       "      <td>-0.002917</td>\n",
       "      <td>-0.124028</td>\n",
       "      <td>0.223796</td>\n",
       "    </tr>\n",
       "    <tr>\n",
       "      <th>std</th>\n",
       "      <td>6931.541584</td>\n",
       "      <td>129013.755215</td>\n",
       "      <td>0.483616</td>\n",
       "      <td>0.781139</td>\n",
       "      <td>0.522008</td>\n",
       "      <td>9.266769</td>\n",
       "      <td>1.126164</td>\n",
       "      <td>1.201892</td>\n",
       "      <td>0.416797</td>\n",
       "    </tr>\n",
       "    <tr>\n",
       "      <th>min</th>\n",
       "      <td>1.000000</td>\n",
       "      <td>10000.000000</td>\n",
       "      <td>1.000000</td>\n",
       "      <td>0.000000</td>\n",
       "      <td>0.000000</td>\n",
       "      <td>21.000000</td>\n",
       "      <td>-2.000000</td>\n",
       "      <td>-2.000000</td>\n",
       "      <td>0.000000</td>\n",
       "    </tr>\n",
       "    <tr>\n",
       "      <th>25%</th>\n",
       "      <td>6008.750000</td>\n",
       "      <td>50000.000000</td>\n",
       "      <td>1.000000</td>\n",
       "      <td>1.000000</td>\n",
       "      <td>1.000000</td>\n",
       "      <td>28.000000</td>\n",
       "      <td>-1.000000</td>\n",
       "      <td>-1.000000</td>\n",
       "      <td>0.000000</td>\n",
       "    </tr>\n",
       "    <tr>\n",
       "      <th>50%</th>\n",
       "      <td>12001.500000</td>\n",
       "      <td>140000.000000</td>\n",
       "      <td>2.000000</td>\n",
       "      <td>2.000000</td>\n",
       "      <td>2.000000</td>\n",
       "      <td>34.000000</td>\n",
       "      <td>0.000000</td>\n",
       "      <td>0.000000</td>\n",
       "      <td>0.000000</td>\n",
       "    </tr>\n",
       "    <tr>\n",
       "      <th>75%</th>\n",
       "      <td>17995.250000</td>\n",
       "      <td>230000.000000</td>\n",
       "      <td>2.000000</td>\n",
       "      <td>2.000000</td>\n",
       "      <td>2.000000</td>\n",
       "      <td>41.000000</td>\n",
       "      <td>0.000000</td>\n",
       "      <td>0.000000</td>\n",
       "      <td>0.000000</td>\n",
       "    </tr>\n",
       "    <tr>\n",
       "      <th>max</th>\n",
       "      <td>24000.000000</td>\n",
       "      <td>1000000.000000</td>\n",
       "      <td>2.000000</td>\n",
       "      <td>6.000000</td>\n",
       "      <td>3.000000</td>\n",
       "      <td>79.000000</td>\n",
       "      <td>8.000000</td>\n",
       "      <td>8.000000</td>\n",
       "      <td>1.000000</td>\n",
       "    </tr>\n",
       "  </tbody>\n",
       "</table>\n",
       "</div>"
      ],
      "text/plain": [
       "             Ref.No              X1            X2            X3            X4  \\\n",
       "count  21600.000000    21600.000000  21600.000000  21600.000000  21600.000000   \n",
       "mean   12000.773750   165235.818519      1.626991      1.845926      1.558704   \n",
       "std     6931.541584   129013.755215      0.483616      0.781139      0.522008   \n",
       "min        1.000000    10000.000000      1.000000      0.000000      0.000000   \n",
       "25%     6008.750000    50000.000000      1.000000      1.000000      1.000000   \n",
       "50%    12001.500000   140000.000000      2.000000      2.000000      2.000000   \n",
       "75%    17995.250000   230000.000000      2.000000      2.000000      2.000000   \n",
       "max    24000.000000  1000000.000000      2.000000      6.000000      3.000000   \n",
       "\n",
       "                 X5            X6            X7             Y  \n",
       "count  21600.000000  21600.000000  21600.000000  21600.000000  \n",
       "mean      35.382361     -0.002917     -0.124028      0.223796  \n",
       "std        9.266769      1.126164      1.201892      0.416797  \n",
       "min       21.000000     -2.000000     -2.000000      0.000000  \n",
       "25%       28.000000     -1.000000     -1.000000      0.000000  \n",
       "50%       34.000000      0.000000      0.000000      0.000000  \n",
       "75%       41.000000      0.000000      0.000000      0.000000  \n",
       "max       79.000000      8.000000      8.000000      1.000000  "
      ]
     },
     "execution_count": 9,
     "metadata": {},
     "output_type": "execute_result"
    }
   ],
   "source": [
    "# to get an idea of of descriptive statistics like std, mean. count, min and max, etc\n",
    "citi.describe()"
   ]
  },
  {
   "cell_type": "code",
   "execution_count": 10,
   "metadata": {
    "colab": {
     "base_uri": "https://localhost:8080/",
     "height": 251
    },
    "colab_type": "code",
    "id": "ae46srLoGTXI",
    "outputId": "c3a79cc9-da95-4c9b-8ef6-818afccd6d81"
   },
   "outputs": [
    {
     "name": "stdout",
     "output_type": "stream",
     "text": [
      "<class 'pandas.core.frame.DataFrame'>\n",
      "RangeIndex: 21600 entries, 0 to 21599\n",
      "Data columns (total 9 columns):\n",
      "Ref.No    21600 non-null int64\n",
      "X1        21600 non-null int64\n",
      "X2        21600 non-null int64\n",
      "X3        21600 non-null int64\n",
      "X4        21600 non-null int64\n",
      "X5        21600 non-null int64\n",
      "X6        21600 non-null int64\n",
      "X7        21600 non-null int64\n",
      "Y         21600 non-null int64\n",
      "dtypes: int64(9)\n",
      "memory usage: 1.5 MB\n"
     ]
    }
   ],
   "source": [
    "# takind an account of datatypes we have in our dataset\n",
    "citi.info()"
   ]
  },
  {
   "cell_type": "code",
   "execution_count": 11,
   "metadata": {
    "colab": {
     "base_uri": "https://localhost:8080/",
     "height": 1000
    },
    "colab_type": "code",
    "id": "-AEqKVQBGTXM",
    "outputId": "db195e3f-4263-4f0c-e479-2a4f36b3bdb8"
   },
   "outputs": [
    {
     "data": {
      "image/png": "[encoded data removed]",
      "text/plain": [
       "<Figure size 432x288 with 1 Axes>"
      ]
     },
     "metadata": {
      "needs_background": "light"
     },
     "output_type": "display_data"
    },
    {
     "data": {
      "image/png": "[encoded data removed]",
      "text/plain": [
       "<Figure size 432x288 with 1 Axes>"
      ]
     },
     "metadata": {
      "needs_background": "light"
     },
     "output_type": "display_data"
    },
    {
     "data": {
      "image/png": "[encoded data removed]",
      "text/plain": [
       "<Figure size 432x288 with 1 Axes>"
      ]
     },
     "metadata": {
      "needs_background": "light"
     },
     "output_type": "display_data"
    },
    {
     "data": {
      "image/png": "[encoded data removed]",
      "text/plain": [
       "<Figure size 432x288 with 1 Axes>"
      ]
     },
     "metadata": {
      "needs_background": "light"
     },
     "output_type": "display_data"
    }
   ],
   "source": [
    "# creating boxplot for all numerical columns.\n",
    "for col in ['X1', 'X5', 'X6', 'X7']:\n",
    "    sns.boxplot(x=col, data=citi)\n",
    "    plt.show()"
   ]
  },
  {
   "cell_type": "markdown",
   "metadata": {
    "colab_type": "text",
    "id": "WsBphYgPGTXP"
   },
   "source": [
    "##### Obsevations of boxplot\n",
    "\n",
    "- on average our credit limit is somewhat between 1.5 lacs to 2 lacs shown by X1\n",
    "\n",
    "- our dataset is comprising of people aged around 35 on average shown by X5."
   ]
  },
  {
   "cell_type": "code",
   "execution_count": 12,
   "metadata": {
    "colab": {
     "base_uri": "https://localhost:8080/",
     "height": 549
    },
    "colab_type": "code",
    "id": "g6NzyvRGGTXQ",
    "outputId": "15b7be54-4c81-493c-ccbe-c7c60c2241ec"
   },
   "outputs": [
    {
     "data": {
      "image/png": "[encoded data removed]",
      "text/plain": [
       "<Figure size 432x288 with 1 Axes>"
      ]
     },
     "metadata": {
      "needs_background": "light"
     },
     "output_type": "display_data"
    },
    {
     "data": {
      "image/png": "[encoded data removed]",
      "text/plain": [
       "<Figure size 432x288 with 1 Axes>"
      ]
     },
     "metadata": {
      "needs_background": "light"
     },
     "output_type": "display_data"
    }
   ],
   "source": [
    "for i in ['X6', 'X7']:\n",
    "    sns.distplot(citi[i])\n",
    "    plt.show()"
   ]
  },
  {
   "cell_type": "markdown",
   "metadata": {
    "colab_type": "text",
    "id": "XqueQZjwGTXV"
   },
   "source": [
    "by observing above distplot we are getting normal curve as it have 0 mean and 1 std."
   ]
  },
  {
   "cell_type": "code",
   "execution_count": 13,
   "metadata": {
    "colab": {
     "base_uri": "https://localhost:8080/",
     "height": 300
    },
    "colab_type": "code",
    "id": "DucFXnrgGTXX",
    "outputId": "67af7526-080d-4ca4-ad0e-f32b95b43602"
   },
   "outputs": [
    {
     "data": {
      "text/plain": [
       "<matplotlib.axes._subplots.AxesSubplot at 0x22ee1fd8c18>"
      ]
     },
     "execution_count": 13,
     "metadata": {},
     "output_type": "execute_result"
    },
    {
     "data": {
      "image/png": "[encoded data removed]",
      "text/plain": [
       "<Figure size 432x288 with 1 Axes>"
      ]
     },
     "metadata": {
      "needs_background": "light"
     },
     "output_type": "display_data"
    }
   ],
   "source": [
    "sns.distplot(citi.X1)"
   ]
  },
  {
   "cell_type": "code",
   "execution_count": 14,
   "metadata": {
    "colab": {
     "base_uri": "https://localhost:8080/",
     "height": 340
    },
    "colab_type": "code",
    "id": "rS4vNE9PGTXd",
    "outputId": "f1554880-ba9b-4cca-a859-71f29c81fd7c"
   },
   "outputs": [
    {
     "data": {
      "text/plain": [
       "<matplotlib.axes._subplots.AxesSubplot at 0x22ee1b6d518>"
      ]
     },
     "execution_count": 14,
     "metadata": {},
     "output_type": "execute_result"
    },
    {
     "data": {
      "image/png": "[encoded data removed]",
      "text/plain": [
       "<Figure size 720x360 with 2 Axes>"
      ]
     },
     "metadata": {
      "needs_background": "light"
     },
     "output_type": "display_data"
    }
   ],
   "source": [
    "plt.figure(figsize=(10,5))\n",
    "sns.heatmap(citi.corr(), annot = True, cbar=True)"
   ]
  },
  {
   "cell_type": "markdown",
   "metadata": {
    "colab_type": "text",
    "id": "YZvFJxrQGTXi"
   },
   "source": [
    "By observing above heatmap of correlation we can surely say that our independent variables are not correlated with dependent/ target variable"
   ]
  },
  {
   "cell_type": "code",
   "execution_count": 15,
   "metadata": {
    "colab": {
     "base_uri": "https://localhost:8080/",
     "height": 300
    },
    "colab_type": "code",
    "id": "xLlswCXKGTXj",
    "outputId": "cbe1490d-2227-4288-b52b-f3eadd016610"
   },
   "outputs": [
    {
     "data": {
      "text/plain": [
       "<matplotlib.axes._subplots.AxesSubplot at 0x22ee205f940>"
      ]
     },
     "execution_count": 15,
     "metadata": {},
     "output_type": "execute_result"
    },
    {
     "data": {
      "image/png": "[encoded data removed]",
      "text/plain": [
       "<Figure size 432x288 with 1 Axes>"
      ]
     },
     "metadata": {
      "needs_background": "light"
     },
     "output_type": "display_data"
    }
   ],
   "source": [
    "sns.countplot(x='Y', data=citi)"
   ]
  },
  {
   "cell_type": "markdown",
   "metadata": {
    "colab_type": "text",
    "id": "mLPvXKRKGTXm"
   },
   "source": [
    "our target variable is in unbalanced state as the minority class(1) is just 22% of total data points"
   ]
  },
  {
   "cell_type": "code",
   "execution_count": 16,
   "metadata": {
    "colab": {
     "base_uri": "https://localhost:8080/",
     "height": 67
    },
    "colab_type": "code",
    "id": "KZA9o9EJGTXn",
    "outputId": "5fa77f8d-403a-4ad3-ca42-9ae009d91acd"
   },
   "outputs": [
    {
     "data": {
      "text/plain": [
       "0    16766\n",
       "1     4834\n",
       "Name: Y, dtype: int64"
      ]
     },
     "execution_count": 16,
     "metadata": {},
     "output_type": "execute_result"
    }
   ],
   "source": [
    "citi.Y.value_counts()"
   ]
  },
  {
   "cell_type": "code",
   "execution_count": 17,
   "metadata": {
    "colab": {},
    "colab_type": "code",
    "id": "A60FrLqLGTXs"
   },
   "outputs": [],
   "source": [
    "# ref.no is not significant for our model building so we can drop it\n",
    "citi.drop('Ref.No', axis = 1, inplace=True)"
   ]
  },
  {
   "cell_type": "code",
   "execution_count": 18,
   "metadata": {
    "colab": {
     "base_uri": "https://localhost:8080/",
     "height": 196
    },
    "colab_type": "code",
    "id": "4yzLjBAdGTXw",
    "outputId": "a02960ac-5041-44ef-aa3d-ecf0c9edf353"
   },
   "outputs": [
    {
     "data": {
      "text/html": [
       "<div>\n",
       "<style scoped>\n",
       "    .dataframe tbody tr th:only-of-type {\n",
       "        vertical-align: middle;\n",
       "    }\n",
       "\n",
       "    .dataframe tbody tr th {\n",
       "        vertical-align: top;\n",
       "    }\n",
       "\n",
       "    .dataframe thead th {\n",
       "        text-align: right;\n",
       "    }\n",
       "</style>\n",
       "<table border=\"1\" class=\"dataframe\">\n",
       "  <thead>\n",
       "    <tr style=\"text-align: right;\">\n",
       "      <th></th>\n",
       "      <th>X1</th>\n",
       "      <th>X2</th>\n",
       "      <th>X3</th>\n",
       "      <th>X4</th>\n",
       "      <th>X5</th>\n",
       "      <th>X6</th>\n",
       "      <th>X7</th>\n",
       "      <th>Y</th>\n",
       "    </tr>\n",
       "  </thead>\n",
       "  <tbody>\n",
       "    <tr>\n",
       "      <th>0</th>\n",
       "      <td>320000</td>\n",
       "      <td>2</td>\n",
       "      <td>1</td>\n",
       "      <td>2</td>\n",
       "      <td>27</td>\n",
       "      <td>1</td>\n",
       "      <td>2</td>\n",
       "      <td>1</td>\n",
       "    </tr>\n",
       "    <tr>\n",
       "      <th>1</th>\n",
       "      <td>470000</td>\n",
       "      <td>1</td>\n",
       "      <td>2</td>\n",
       "      <td>1</td>\n",
       "      <td>41</td>\n",
       "      <td>-2</td>\n",
       "      <td>-2</td>\n",
       "      <td>0</td>\n",
       "    </tr>\n",
       "    <tr>\n",
       "      <th>2</th>\n",
       "      <td>20000</td>\n",
       "      <td>1</td>\n",
       "      <td>2</td>\n",
       "      <td>2</td>\n",
       "      <td>25</td>\n",
       "      <td>1</td>\n",
       "      <td>2</td>\n",
       "      <td>0</td>\n",
       "    </tr>\n",
       "    <tr>\n",
       "      <th>3</th>\n",
       "      <td>80000</td>\n",
       "      <td>1</td>\n",
       "      <td>3</td>\n",
       "      <td>1</td>\n",
       "      <td>41</td>\n",
       "      <td>0</td>\n",
       "      <td>0</td>\n",
       "      <td>1</td>\n",
       "    </tr>\n",
       "    <tr>\n",
       "      <th>4</th>\n",
       "      <td>30000</td>\n",
       "      <td>1</td>\n",
       "      <td>1</td>\n",
       "      <td>2</td>\n",
       "      <td>30</td>\n",
       "      <td>1</td>\n",
       "      <td>-2</td>\n",
       "      <td>1</td>\n",
       "    </tr>\n",
       "  </tbody>\n",
       "</table>\n",
       "</div>"
      ],
      "text/plain": [
       "       X1  X2  X3  X4  X5  X6  X7  Y\n",
       "0  320000   2   1   2  27   1   2  1\n",
       "1  470000   1   2   1  41  -2  -2  0\n",
       "2   20000   1   2   2  25   1   2  0\n",
       "3   80000   1   3   1  41   0   0  1\n",
       "4   30000   1   1   2  30   1  -2  1"
      ]
     },
     "execution_count": 18,
     "metadata": {},
     "output_type": "execute_result"
    }
   ],
   "source": [
    "citi.head()"
   ]
  },
  {
   "cell_type": "markdown",
   "metadata": {
    "colab_type": "text",
    "id": "cHi3a8tSGTX0"
   },
   "source": [
    "## divding dataset and spliting into train and test"
   ]
  },
  {
   "cell_type": "code",
   "execution_count": 19,
   "metadata": {
    "colab": {},
    "colab_type": "code",
    "id": "zqUYh7zzGTX2"
   },
   "outputs": [],
   "source": [
    "x = citi.drop('Y', axis = 1)\n",
    "y = citi.Y"
   ]
  },
  {
   "cell_type": "code",
   "execution_count": 20,
   "metadata": {
    "colab": {},
    "colab_type": "code",
    "id": "JT-jaZnlGTX6"
   },
   "outputs": [],
   "source": [
    "x_train, x_test, y_train, y_test = train_test_split(x, y, random_state = 7, test_size=0.3)"
   ]
  },
  {
   "cell_type": "code",
   "execution_count": 21,
   "metadata": {
    "colab": {
     "base_uri": "https://localhost:8080/",
     "height": 84
    },
    "colab_type": "code",
    "id": "oIudtn-TGTX9",
    "outputId": "2687ab27-ee87-48e3-badc-53907f135722"
   },
   "outputs": [
    {
     "name": "stdout",
     "output_type": "stream",
     "text": [
      "(15120, 7)\n",
      "(6480, 7)\n",
      "(15120,)\n",
      "(6480,)\n"
     ]
    }
   ],
   "source": [
    "print(x_train.shape)\n",
    "print(x_test.shape)\n",
    "print(y_train.shape)\n",
    "print(y_test.shape)"
   ]
  },
  {
   "cell_type": "markdown",
   "metadata": {
    "colab_type": "text",
    "id": "X2Pe-BuBfkZA"
   },
   "source": [
    "### Standardizating the data"
   ]
  },
  {
   "cell_type": "code",
   "execution_count": 22,
   "metadata": {
    "colab": {},
    "colab_type": "code",
    "id": "rF1S2g1oGTYE"
   },
   "outputs": [],
   "source": [
    "sc = StandardScaler()\n",
    "sc_x = sc.fit_transform(x_train)\n",
    "sc_xt = sc.fit_transform(x_test)"
   ]
  },
  {
   "cell_type": "markdown",
   "metadata": {
    "colab_type": "text",
    "id": "nwng-w_mf6gC"
   },
   "source": [
    "## Modelling \n",
    "\n"
   ]
  },
  {
   "cell_type": "code",
   "execution_count": 23,
   "metadata": {
    "colab": {},
    "colab_type": "code",
    "id": "UbUlsW7fGTYK"
   },
   "outputs": [],
   "source": [
    "dt = DecisionTreeClassifier()\n",
    "dt.fit(sc_x, y_train)\n",
    "pred_dt = dt.predict(sc_xt)"
   ]
  },
  {
   "cell_type": "code",
   "execution_count": 24,
   "metadata": {
    "colab": {
     "base_uri": "https://localhost:8080/",
     "height": 33
    },
    "colab_type": "code",
    "id": "vY0cxSbZGTYO",
    "outputId": "8e78ea6d-4a48-4cdb-8012-f92b27b955f0",
    "scrolled": true
   },
   "outputs": [
    {
     "data": {
      "text/plain": [
       "0.7489197530864198"
      ]
     },
     "execution_count": 24,
     "metadata": {},
     "output_type": "execute_result"
    }
   ],
   "source": [
    "from sklearn.metrics import accuracy_score\n",
    "accuracy_score(y_test, pred_dt)"
   ]
  },
  {
   "cell_type": "code",
   "execution_count": 25,
   "metadata": {
    "colab": {},
    "colab_type": "code",
    "id": "yfcY8lAfGTYU"
   },
   "outputs": [],
   "source": [
    "# param = {'criterion':['gini', 'entropy'], 'splitter':['best', 'random'],\n",
    "#          'max_depth': range(2, 50), 'min_samples_split': range(2, 20)}\n",
    "\n",
    "# grid = GridSearchCV(estimator=dt, param_grid=param, cv=5)\n",
    "# grid.fit(sc_x,y_train)\n",
    "# print(grid.best_params_)"
   ]
  },
  {
   "cell_type": "code",
   "execution_count": 26,
   "metadata": {
    "colab": {},
    "colab_type": "code",
    "id": "LijnCK96GTYY"
   },
   "outputs": [],
   "source": [
    "dt = DecisionTreeClassifier(criterion='gini', max_depth=3, min_samples_split=2, splitter= 'best')\n",
    "dt.fit(sc_x, y_train)\n",
    "pred_dt = dt.predict(sc_xt)"
   ]
  },
  {
   "cell_type": "code",
   "execution_count": 27,
   "metadata": {
    "colab": {
     "base_uri": "https://localhost:8080/",
     "height": 33
    },
    "colab_type": "code",
    "id": "w9K9kGz0GTYc",
    "outputId": "267a33ac-98b9-46be-f051-cd9b414281cd"
   },
   "outputs": [
    {
     "data": {
      "text/plain": [
       "0.8257716049382716"
      ]
     },
     "execution_count": 27,
     "metadata": {},
     "output_type": "execute_result"
    }
   ],
   "source": [
    "accuracy_score(y_test, pred_dt)"
   ]
  },
  {
   "cell_type": "code",
   "execution_count": 32,
   "metadata": {
    "colab": {},
    "colab_type": "code",
    "id": "DoWl-1UPN1fi"
   },
   "outputs": [],
   "source": [
    "citi_t = pd.read_csv('test.csv')"
   ]
  },
  {
   "cell_type": "code",
   "execution_count": 33,
   "metadata": {
    "colab": {
     "base_uri": "https://localhost:8080/",
     "height": 216
    },
    "colab_type": "code",
    "id": "CZmSrkw5N1kn",
    "outputId": "f010216b-0259-4adc-e9c8-0cb35ea1f460"
   },
   "outputs": [
    {
     "data": {
      "text/html": [
       "<div>\n",
       "<style scoped>\n",
       "    .dataframe tbody tr th:only-of-type {\n",
       "        vertical-align: middle;\n",
       "    }\n",
       "\n",
       "    .dataframe tbody tr th {\n",
       "        vertical-align: top;\n",
       "    }\n",
       "\n",
       "    .dataframe thead th {\n",
       "        text-align: right;\n",
       "    }\n",
       "</style>\n",
       "<table border=\"1\" class=\"dataframe\">\n",
       "  <thead>\n",
       "    <tr style=\"text-align: right;\">\n",
       "      <th></th>\n",
       "      <th>Ref.No</th>\n",
       "      <th>X1</th>\n",
       "      <th>X2</th>\n",
       "      <th>X3</th>\n",
       "      <th>X4</th>\n",
       "      <th>X5</th>\n",
       "      <th>X6</th>\n",
       "      <th>X7</th>\n",
       "      <th>X8</th>\n",
       "      <th>X9</th>\n",
       "      <th>...</th>\n",
       "      <th>X15</th>\n",
       "      <th>X16</th>\n",
       "      <th>X17</th>\n",
       "      <th>X18</th>\n",
       "      <th>X19</th>\n",
       "      <th>X20</th>\n",
       "      <th>X21</th>\n",
       "      <th>X22</th>\n",
       "      <th>X23</th>\n",
       "      <th>Y</th>\n",
       "    </tr>\n",
       "  </thead>\n",
       "  <tbody>\n",
       "    <tr>\n",
       "      <th>0</th>\n",
       "      <td>17083</td>\n",
       "      <td>50000</td>\n",
       "      <td>2</td>\n",
       "      <td>1</td>\n",
       "      <td>2</td>\n",
       "      <td>25</td>\n",
       "      <td>0</td>\n",
       "      <td>0</td>\n",
       "      <td>0</td>\n",
       "      <td>0</td>\n",
       "      <td>...</td>\n",
       "      <td>38008</td>\n",
       "      <td>31898</td>\n",
       "      <td>20154</td>\n",
       "      <td>2000</td>\n",
       "      <td>5040</td>\n",
       "      <td>8034</td>\n",
       "      <td>3029</td>\n",
       "      <td>5000</td>\n",
       "      <td>49436</td>\n",
       "      <td>NaN</td>\n",
       "    </tr>\n",
       "    <tr>\n",
       "      <th>1</th>\n",
       "      <td>3494</td>\n",
       "      <td>120000</td>\n",
       "      <td>2</td>\n",
       "      <td>2</td>\n",
       "      <td>2</td>\n",
       "      <td>24</td>\n",
       "      <td>0</td>\n",
       "      <td>0</td>\n",
       "      <td>0</td>\n",
       "      <td>0</td>\n",
       "      <td>...</td>\n",
       "      <td>6761</td>\n",
       "      <td>7189</td>\n",
       "      <td>1087</td>\n",
       "      <td>1400</td>\n",
       "      <td>1000</td>\n",
       "      <td>0</td>\n",
       "      <td>1000</td>\n",
       "      <td>1087</td>\n",
       "      <td>801</td>\n",
       "      <td>NaN</td>\n",
       "    </tr>\n",
       "    <tr>\n",
       "      <th>2</th>\n",
       "      <td>21945</td>\n",
       "      <td>120000</td>\n",
       "      <td>2</td>\n",
       "      <td>2</td>\n",
       "      <td>2</td>\n",
       "      <td>27</td>\n",
       "      <td>1</td>\n",
       "      <td>-2</td>\n",
       "      <td>-1</td>\n",
       "      <td>-1</td>\n",
       "      <td>...</td>\n",
       "      <td>0</td>\n",
       "      <td>0</td>\n",
       "      <td>0</td>\n",
       "      <td>0</td>\n",
       "      <td>2382</td>\n",
       "      <td>0</td>\n",
       "      <td>0</td>\n",
       "      <td>0</td>\n",
       "      <td>0</td>\n",
       "      <td>NaN</td>\n",
       "    </tr>\n",
       "    <tr>\n",
       "      <th>3</th>\n",
       "      <td>3499</td>\n",
       "      <td>60000</td>\n",
       "      <td>1</td>\n",
       "      <td>1</td>\n",
       "      <td>2</td>\n",
       "      <td>28</td>\n",
       "      <td>0</td>\n",
       "      <td>-1</td>\n",
       "      <td>0</td>\n",
       "      <td>0</td>\n",
       "      <td>...</td>\n",
       "      <td>9900</td>\n",
       "      <td>310</td>\n",
       "      <td>160</td>\n",
       "      <td>6000</td>\n",
       "      <td>10000</td>\n",
       "      <td>900</td>\n",
       "      <td>310</td>\n",
       "      <td>0</td>\n",
       "      <td>3400</td>\n",
       "      <td>NaN</td>\n",
       "    </tr>\n",
       "    <tr>\n",
       "      <th>4</th>\n",
       "      <td>18973</td>\n",
       "      <td>100000</td>\n",
       "      <td>2</td>\n",
       "      <td>1</td>\n",
       "      <td>2</td>\n",
       "      <td>28</td>\n",
       "      <td>3</td>\n",
       "      <td>2</td>\n",
       "      <td>0</td>\n",
       "      <td>0</td>\n",
       "      <td>...</td>\n",
       "      <td>53407</td>\n",
       "      <td>51951</td>\n",
       "      <td>53195</td>\n",
       "      <td>0</td>\n",
       "      <td>1831</td>\n",
       "      <td>4339</td>\n",
       "      <td>0</td>\n",
       "      <td>2083</td>\n",
       "      <td>1939</td>\n",
       "      <td>NaN</td>\n",
       "    </tr>\n",
       "  </tbody>\n",
       "</table>\n",
       "<p>5 rows × 25 columns</p>\n",
       "</div>"
      ],
      "text/plain": [
       "   Ref.No      X1  X2  X3  X4  X5  X6  X7  X8  X9  ...    X15    X16    X17  \\\n",
       "0   17083   50000   2   1   2  25   0   0   0   0  ...  38008  31898  20154   \n",
       "1    3494  120000   2   2   2  24   0   0   0   0  ...   6761   7189   1087   \n",
       "2   21945  120000   2   2   2  27   1  -2  -1  -1  ...      0      0      0   \n",
       "3    3499   60000   1   1   2  28   0  -1   0   0  ...   9900    310    160   \n",
       "4   18973  100000   2   1   2  28   3   2   0   0  ...  53407  51951  53195   \n",
       "\n",
       "    X18    X19   X20   X21   X22    X23   Y  \n",
       "0  2000   5040  8034  3029  5000  49436 NaN  \n",
       "1  1400   1000     0  1000  1087    801 NaN  \n",
       "2     0   2382     0     0     0      0 NaN  \n",
       "3  6000  10000   900   310     0   3400 NaN  \n",
       "4     0   1831  4339     0  2083   1939 NaN  \n",
       "\n",
       "[5 rows x 25 columns]"
      ]
     },
     "execution_count": 33,
     "metadata": {},
     "output_type": "execute_result"
    }
   ],
   "source": [
    "citi_t.head()"
   ]
  },
  {
   "cell_type": "code",
   "execution_count": 34,
   "metadata": {
    "colab": {},
    "colab_type": "code",
    "id": "M0n6H1-yN1jZ"
   },
   "outputs": [],
   "source": [
    "req_t = citi_t.iloc[:,:8]"
   ]
  },
  {
   "cell_type": "code",
   "execution_count": 35,
   "metadata": {
    "colab": {
     "base_uri": "https://localhost:8080/",
     "height": 196
    },
    "colab_type": "code",
    "id": "nU_HZlbiN1d5",
    "outputId": "6f16505d-9a0b-4c9e-edd5-438e1538a101"
   },
   "outputs": [
    {
     "data": {
      "text/html": [
       "<div>\n",
       "<style scoped>\n",
       "    .dataframe tbody tr th:only-of-type {\n",
       "        vertical-align: middle;\n",
       "    }\n",
       "\n",
       "    .dataframe tbody tr th {\n",
       "        vertical-align: top;\n",
       "    }\n",
       "\n",
       "    .dataframe thead th {\n",
       "        text-align: right;\n",
       "    }\n",
       "</style>\n",
       "<table border=\"1\" class=\"dataframe\">\n",
       "  <thead>\n",
       "    <tr style=\"text-align: right;\">\n",
       "      <th></th>\n",
       "      <th>Ref.No</th>\n",
       "      <th>X1</th>\n",
       "      <th>X2</th>\n",
       "      <th>X3</th>\n",
       "      <th>X4</th>\n",
       "      <th>X5</th>\n",
       "      <th>X6</th>\n",
       "      <th>X7</th>\n",
       "    </tr>\n",
       "  </thead>\n",
       "  <tbody>\n",
       "    <tr>\n",
       "      <th>0</th>\n",
       "      <td>17083</td>\n",
       "      <td>50000</td>\n",
       "      <td>2</td>\n",
       "      <td>1</td>\n",
       "      <td>2</td>\n",
       "      <td>25</td>\n",
       "      <td>0</td>\n",
       "      <td>0</td>\n",
       "    </tr>\n",
       "    <tr>\n",
       "      <th>1</th>\n",
       "      <td>3494</td>\n",
       "      <td>120000</td>\n",
       "      <td>2</td>\n",
       "      <td>2</td>\n",
       "      <td>2</td>\n",
       "      <td>24</td>\n",
       "      <td>0</td>\n",
       "      <td>0</td>\n",
       "    </tr>\n",
       "    <tr>\n",
       "      <th>2</th>\n",
       "      <td>21945</td>\n",
       "      <td>120000</td>\n",
       "      <td>2</td>\n",
       "      <td>2</td>\n",
       "      <td>2</td>\n",
       "      <td>27</td>\n",
       "      <td>1</td>\n",
       "      <td>-2</td>\n",
       "    </tr>\n",
       "    <tr>\n",
       "      <th>3</th>\n",
       "      <td>3499</td>\n",
       "      <td>60000</td>\n",
       "      <td>1</td>\n",
       "      <td>1</td>\n",
       "      <td>2</td>\n",
       "      <td>28</td>\n",
       "      <td>0</td>\n",
       "      <td>-1</td>\n",
       "    </tr>\n",
       "    <tr>\n",
       "      <th>4</th>\n",
       "      <td>18973</td>\n",
       "      <td>100000</td>\n",
       "      <td>2</td>\n",
       "      <td>1</td>\n",
       "      <td>2</td>\n",
       "      <td>28</td>\n",
       "      <td>3</td>\n",
       "      <td>2</td>\n",
       "    </tr>\n",
       "  </tbody>\n",
       "</table>\n",
       "</div>"
      ],
      "text/plain": [
       "   Ref.No      X1  X2  X3  X4  X5  X6  X7\n",
       "0   17083   50000   2   1   2  25   0   0\n",
       "1    3494  120000   2   2   2  24   0   0\n",
       "2   21945  120000   2   2   2  27   1  -2\n",
       "3    3499   60000   1   1   2  28   0  -1\n",
       "4   18973  100000   2   1   2  28   3   2"
      ]
     },
     "execution_count": 35,
     "metadata": {},
     "output_type": "execute_result"
    }
   ],
   "source": [
    "req_t.head()"
   ]
  },
  {
   "cell_type": "code",
   "execution_count": 36,
   "metadata": {
    "colab": {},
    "colab_type": "code",
    "id": "cIKGdvIYQy1C"
   },
   "outputs": [],
   "source": [
    "req_t.drop('Ref.No', axis=1, inplace=True)"
   ]
  },
  {
   "cell_type": "code",
   "execution_count": 37,
   "metadata": {
    "colab": {},
    "colab_type": "code",
    "id": "IBO06YN3Psle"
   },
   "outputs": [],
   "source": [
    "sc = StandardScaler()\n",
    "sc_test = sc.fit_transform(req_t)"
   ]
  },
  {
   "cell_type": "code",
   "execution_count": 38,
   "metadata": {
    "colab": {
     "base_uri": "https://localhost:8080/",
     "height": 33
    },
    "colab_type": "code",
    "id": "mqqbTeUaPsxT",
    "outputId": "a232095e-2d8f-457f-f7b7-2cf3eb0899fd"
   },
   "outputs": [
    {
     "data": {
      "text/plain": [
       "(array([0, 0, 0, ..., 1, 1, 0], dtype=int64), (2399,))"
      ]
     },
     "execution_count": 38,
     "metadata": {},
     "output_type": "execute_result"
    }
   ],
   "source": [
    "pred_dt_f = dt.predict(sc_test)\n",
    "pred_dt_f, pred_dt_f.shape"
   ]
  },
  {
   "cell_type": "code",
   "execution_count": 39,
   "metadata": {
    "colab": {},
    "colab_type": "code",
    "id": "5drXTvjXGTYe"
   },
   "outputs": [],
   "source": [
    "# # submission\n",
    "# sample = pd.read_csv(\"sample_submission.csv\")\n",
    "# solution = pd.DataFrame({'ref.no':sample['Ref.No'], 'Y':pred_dt_f})\n",
    "# # export to kaggle\n",
    "# solution.to_csv('citi_dt.csv', index= False)"
   ]
  },
  {
   "cell_type": "markdown",
   "metadata": {
    "colab_type": "text",
    "id": "8VrqZRNvY2ot"
   },
   "source": [
    "# Train 2 dataset"
   ]
  },
  {
   "cell_type": "code",
   "execution_count": 0,
   "metadata": {
    "colab": {},
    "colab_type": "code",
    "id": "6fxzkG4ZY7xo"
   },
   "outputs": [],
   "source": [
    "# path2= '/content/drive/My Drive/Colab Notebooks/train_2.csv'"
   ]
  },
  {
   "cell_type": "code",
   "execution_count": 40,
   "metadata": {
    "colab": {},
    "colab_type": "code",
    "id": "scwYXnwWZHRo"
   },
   "outputs": [],
   "source": [
    "train2 = pd.read_csv('train_2.csv')"
   ]
  },
  {
   "cell_type": "code",
   "execution_count": 41,
   "metadata": {
    "colab": {
     "base_uri": "https://localhost:8080/",
     "height": 196
    },
    "colab_type": "code",
    "id": "8AfSJzFfaV9f",
    "outputId": "bc7ea555-18c5-406c-f129-e74165227614"
   },
   "outputs": [
    {
     "data": {
      "text/html": [
       "<div>\n",
       "<style scoped>\n",
       "    .dataframe tbody tr th:only-of-type {\n",
       "        vertical-align: middle;\n",
       "    }\n",
       "\n",
       "    .dataframe tbody tr th {\n",
       "        vertical-align: top;\n",
       "    }\n",
       "\n",
       "    .dataframe thead th {\n",
       "        text-align: right;\n",
       "    }\n",
       "</style>\n",
       "<table border=\"1\" class=\"dataframe\">\n",
       "  <thead>\n",
       "    <tr style=\"text-align: right;\">\n",
       "      <th></th>\n",
       "      <th>Ref.No</th>\n",
       "      <th>X8</th>\n",
       "      <th>X9</th>\n",
       "      <th>X10</th>\n",
       "      <th>X11</th>\n",
       "      <th>X12</th>\n",
       "      <th>X13</th>\n",
       "      <th>X14</th>\n",
       "      <th>X15</th>\n",
       "    </tr>\n",
       "  </thead>\n",
       "  <tbody>\n",
       "    <tr>\n",
       "      <th>0</th>\n",
       "      <td>22203</td>\n",
       "      <td>2</td>\n",
       "      <td>2</td>\n",
       "      <td>2</td>\n",
       "      <td>2</td>\n",
       "      <td>43243</td>\n",
       "      <td>42537</td>\n",
       "      <td>41370</td>\n",
       "      <td>40694</td>\n",
       "    </tr>\n",
       "    <tr>\n",
       "      <th>1</th>\n",
       "      <td>1288</td>\n",
       "      <td>-2</td>\n",
       "      <td>-2</td>\n",
       "      <td>-2</td>\n",
       "      <td>-1</td>\n",
       "      <td>13780</td>\n",
       "      <td>12242</td>\n",
       "      <td>32463</td>\n",
       "      <td>20621</td>\n",
       "    </tr>\n",
       "    <tr>\n",
       "      <th>2</th>\n",
       "      <td>11822</td>\n",
       "      <td>0</td>\n",
       "      <td>0</td>\n",
       "      <td>0</td>\n",
       "      <td>0</td>\n",
       "      <td>20415</td>\n",
       "      <td>18266</td>\n",
       "      <td>18921</td>\n",
       "      <td>19297</td>\n",
       "    </tr>\n",
       "    <tr>\n",
       "      <th>3</th>\n",
       "      <td>15085</td>\n",
       "      <td>0</td>\n",
       "      <td>0</td>\n",
       "      <td>0</td>\n",
       "      <td>-1</td>\n",
       "      <td>76015</td>\n",
       "      <td>77582</td>\n",
       "      <td>60311</td>\n",
       "      <td>62471</td>\n",
       "    </tr>\n",
       "    <tr>\n",
       "      <th>4</th>\n",
       "      <td>6192</td>\n",
       "      <td>-2</td>\n",
       "      <td>-2</td>\n",
       "      <td>-2</td>\n",
       "      <td>-2</td>\n",
       "      <td>0</td>\n",
       "      <td>0</td>\n",
       "      <td>0</td>\n",
       "      <td>0</td>\n",
       "    </tr>\n",
       "  </tbody>\n",
       "</table>\n",
       "</div>"
      ],
      "text/plain": [
       "   Ref.No  X8  X9  X10  X11    X12    X13    X14    X15\n",
       "0   22203   2   2    2    2  43243  42537  41370  40694\n",
       "1    1288  -2  -2   -2   -1  13780  12242  32463  20621\n",
       "2   11822   0   0    0    0  20415  18266  18921  19297\n",
       "3   15085   0   0    0   -1  76015  77582  60311  62471\n",
       "4    6192  -2  -2   -2   -2      0      0      0      0"
      ]
     },
     "execution_count": 41,
     "metadata": {},
     "output_type": "execute_result"
    }
   ],
   "source": [
    "train2.head()"
   ]
  },
  {
   "cell_type": "code",
   "execution_count": 42,
   "metadata": {
    "colab": {
     "base_uri": "https://localhost:8080/",
     "height": 196
    },
    "colab_type": "code",
    "id": "V9wSQ9qJaeGp",
    "outputId": "425fbc25-f121-4864-83f2-d7b529373224"
   },
   "outputs": [
    {
     "data": {
      "text/html": [
       "<div>\n",
       "<style scoped>\n",
       "    .dataframe tbody tr th:only-of-type {\n",
       "        vertical-align: middle;\n",
       "    }\n",
       "\n",
       "    .dataframe tbody tr th {\n",
       "        vertical-align: top;\n",
       "    }\n",
       "\n",
       "    .dataframe thead th {\n",
       "        text-align: right;\n",
       "    }\n",
       "</style>\n",
       "<table border=\"1\" class=\"dataframe\">\n",
       "  <thead>\n",
       "    <tr style=\"text-align: right;\">\n",
       "      <th></th>\n",
       "      <th>X1</th>\n",
       "      <th>X2</th>\n",
       "      <th>X3</th>\n",
       "      <th>X4</th>\n",
       "      <th>X5</th>\n",
       "      <th>X6</th>\n",
       "      <th>X7</th>\n",
       "      <th>Y</th>\n",
       "    </tr>\n",
       "  </thead>\n",
       "  <tbody>\n",
       "    <tr>\n",
       "      <th>0</th>\n",
       "      <td>320000</td>\n",
       "      <td>2</td>\n",
       "      <td>1</td>\n",
       "      <td>2</td>\n",
       "      <td>27</td>\n",
       "      <td>1</td>\n",
       "      <td>2</td>\n",
       "      <td>1</td>\n",
       "    </tr>\n",
       "    <tr>\n",
       "      <th>1</th>\n",
       "      <td>470000</td>\n",
       "      <td>1</td>\n",
       "      <td>2</td>\n",
       "      <td>1</td>\n",
       "      <td>41</td>\n",
       "      <td>-2</td>\n",
       "      <td>-2</td>\n",
       "      <td>0</td>\n",
       "    </tr>\n",
       "    <tr>\n",
       "      <th>2</th>\n",
       "      <td>20000</td>\n",
       "      <td>1</td>\n",
       "      <td>2</td>\n",
       "      <td>2</td>\n",
       "      <td>25</td>\n",
       "      <td>1</td>\n",
       "      <td>2</td>\n",
       "      <td>0</td>\n",
       "    </tr>\n",
       "    <tr>\n",
       "      <th>3</th>\n",
       "      <td>80000</td>\n",
       "      <td>1</td>\n",
       "      <td>3</td>\n",
       "      <td>1</td>\n",
       "      <td>41</td>\n",
       "      <td>0</td>\n",
       "      <td>0</td>\n",
       "      <td>1</td>\n",
       "    </tr>\n",
       "    <tr>\n",
       "      <th>4</th>\n",
       "      <td>30000</td>\n",
       "      <td>1</td>\n",
       "      <td>1</td>\n",
       "      <td>2</td>\n",
       "      <td>30</td>\n",
       "      <td>1</td>\n",
       "      <td>-2</td>\n",
       "      <td>1</td>\n",
       "    </tr>\n",
       "  </tbody>\n",
       "</table>\n",
       "</div>"
      ],
      "text/plain": [
       "       X1  X2  X3  X4  X5  X6  X7  Y\n",
       "0  320000   2   1   2  27   1   2  1\n",
       "1  470000   1   2   1  41  -2  -2  0\n",
       "2   20000   1   2   2  25   1   2  0\n",
       "3   80000   1   3   1  41   0   0  1\n",
       "4   30000   1   1   2  30   1  -2  1"
      ]
     },
     "execution_count": 42,
     "metadata": {},
     "output_type": "execute_result"
    }
   ],
   "source": [
    "citi.head()"
   ]
  },
  {
   "cell_type": "code",
   "execution_count": 44,
   "metadata": {
    "colab": {},
    "colab_type": "code",
    "id": "i8bKqjXWzOyK"
   },
   "outputs": [],
   "source": [
    "citi = pd.read_csv('train_1.csv')"
   ]
  },
  {
   "cell_type": "code",
   "execution_count": 45,
   "metadata": {
    "colab": {},
    "colab_type": "code",
    "id": "wrxJSERFahTG"
   },
   "outputs": [],
   "source": [
    "ntrain = pd.merge(citi, train2, on='Ref.No')"
   ]
  },
  {
   "cell_type": "code",
   "execution_count": 46,
   "metadata": {
    "colab": {
     "base_uri": "https://localhost:8080/",
     "height": 196
    },
    "colab_type": "code",
    "id": "RmCF_J5VcV64",
    "outputId": "9217307b-29aa-4631-b120-161350b328c4"
   },
   "outputs": [
    {
     "data": {
      "text/html": [
       "<div>\n",
       "<style scoped>\n",
       "    .dataframe tbody tr th:only-of-type {\n",
       "        vertical-align: middle;\n",
       "    }\n",
       "\n",
       "    .dataframe tbody tr th {\n",
       "        vertical-align: top;\n",
       "    }\n",
       "\n",
       "    .dataframe thead th {\n",
       "        text-align: right;\n",
       "    }\n",
       "</style>\n",
       "<table border=\"1\" class=\"dataframe\">\n",
       "  <thead>\n",
       "    <tr style=\"text-align: right;\">\n",
       "      <th></th>\n",
       "      <th>Ref.No</th>\n",
       "      <th>X1</th>\n",
       "      <th>X2</th>\n",
       "      <th>X3</th>\n",
       "      <th>X4</th>\n",
       "      <th>X5</th>\n",
       "      <th>X6</th>\n",
       "      <th>X7</th>\n",
       "      <th>Y</th>\n",
       "      <th>X8</th>\n",
       "      <th>X9</th>\n",
       "      <th>X10</th>\n",
       "      <th>X11</th>\n",
       "      <th>X12</th>\n",
       "      <th>X13</th>\n",
       "      <th>X14</th>\n",
       "      <th>X15</th>\n",
       "    </tr>\n",
       "  </thead>\n",
       "  <tbody>\n",
       "    <tr>\n",
       "      <th>0</th>\n",
       "      <td>22203</td>\n",
       "      <td>320000</td>\n",
       "      <td>2</td>\n",
       "      <td>1</td>\n",
       "      <td>2</td>\n",
       "      <td>27</td>\n",
       "      <td>1</td>\n",
       "      <td>2</td>\n",
       "      <td>1</td>\n",
       "      <td>2</td>\n",
       "      <td>2</td>\n",
       "      <td>2</td>\n",
       "      <td>2</td>\n",
       "      <td>43243</td>\n",
       "      <td>42537</td>\n",
       "      <td>41370</td>\n",
       "      <td>40694</td>\n",
       "    </tr>\n",
       "    <tr>\n",
       "      <th>1</th>\n",
       "      <td>1288</td>\n",
       "      <td>470000</td>\n",
       "      <td>1</td>\n",
       "      <td>2</td>\n",
       "      <td>1</td>\n",
       "      <td>41</td>\n",
       "      <td>-2</td>\n",
       "      <td>-2</td>\n",
       "      <td>0</td>\n",
       "      <td>-2</td>\n",
       "      <td>-2</td>\n",
       "      <td>-2</td>\n",
       "      <td>-1</td>\n",
       "      <td>13780</td>\n",
       "      <td>12242</td>\n",
       "      <td>32463</td>\n",
       "      <td>20621</td>\n",
       "    </tr>\n",
       "    <tr>\n",
       "      <th>2</th>\n",
       "      <td>11822</td>\n",
       "      <td>20000</td>\n",
       "      <td>1</td>\n",
       "      <td>2</td>\n",
       "      <td>2</td>\n",
       "      <td>25</td>\n",
       "      <td>1</td>\n",
       "      <td>2</td>\n",
       "      <td>0</td>\n",
       "      <td>0</td>\n",
       "      <td>0</td>\n",
       "      <td>0</td>\n",
       "      <td>0</td>\n",
       "      <td>20415</td>\n",
       "      <td>18266</td>\n",
       "      <td>18921</td>\n",
       "      <td>19297</td>\n",
       "    </tr>\n",
       "    <tr>\n",
       "      <th>3</th>\n",
       "      <td>15085</td>\n",
       "      <td>80000</td>\n",
       "      <td>1</td>\n",
       "      <td>3</td>\n",
       "      <td>1</td>\n",
       "      <td>41</td>\n",
       "      <td>0</td>\n",
       "      <td>0</td>\n",
       "      <td>1</td>\n",
       "      <td>0</td>\n",
       "      <td>0</td>\n",
       "      <td>0</td>\n",
       "      <td>-1</td>\n",
       "      <td>76015</td>\n",
       "      <td>77582</td>\n",
       "      <td>60311</td>\n",
       "      <td>62471</td>\n",
       "    </tr>\n",
       "    <tr>\n",
       "      <th>4</th>\n",
       "      <td>6192</td>\n",
       "      <td>30000</td>\n",
       "      <td>1</td>\n",
       "      <td>1</td>\n",
       "      <td>2</td>\n",
       "      <td>30</td>\n",
       "      <td>1</td>\n",
       "      <td>-2</td>\n",
       "      <td>1</td>\n",
       "      <td>-2</td>\n",
       "      <td>-2</td>\n",
       "      <td>-2</td>\n",
       "      <td>-2</td>\n",
       "      <td>0</td>\n",
       "      <td>0</td>\n",
       "      <td>0</td>\n",
       "      <td>0</td>\n",
       "    </tr>\n",
       "  </tbody>\n",
       "</table>\n",
       "</div>"
      ],
      "text/plain": [
       "   Ref.No      X1  X2  X3  X4  X5  X6  X7  Y  X8  X9  X10  X11    X12    X13  \\\n",
       "0   22203  320000   2   1   2  27   1   2  1   2   2    2    2  43243  42537   \n",
       "1    1288  470000   1   2   1  41  -2  -2  0  -2  -2   -2   -1  13780  12242   \n",
       "2   11822   20000   1   2   2  25   1   2  0   0   0    0    0  20415  18266   \n",
       "3   15085   80000   1   3   1  41   0   0  1   0   0    0   -1  76015  77582   \n",
       "4    6192   30000   1   1   2  30   1  -2  1  -2  -2   -2   -2      0      0   \n",
       "\n",
       "     X14    X15  \n",
       "0  41370  40694  \n",
       "1  32463  20621  \n",
       "2  18921  19297  \n",
       "3  60311  62471  \n",
       "4      0      0  "
      ]
     },
     "execution_count": 46,
     "metadata": {},
     "output_type": "execute_result"
    }
   ],
   "source": [
    "ntrain.head()"
   ]
  },
  {
   "cell_type": "code",
   "execution_count": 47,
   "metadata": {
    "colab": {
     "base_uri": "https://localhost:8080/",
     "height": 33
    },
    "colab_type": "code",
    "id": "FHHAYCSecX3w",
    "outputId": "0cdc2d60-cc3a-4a42-be30-358e486485d0"
   },
   "outputs": [
    {
     "data": {
      "text/plain": [
       "(21600, 17)"
      ]
     },
     "execution_count": 47,
     "metadata": {},
     "output_type": "execute_result"
    }
   ],
   "source": [
    "ntrain.shape"
   ]
  },
  {
   "cell_type": "code",
   "execution_count": 48,
   "metadata": {
    "colab": {
     "base_uri": "https://localhost:8080/",
     "height": 306
    },
    "colab_type": "code",
    "id": "XFdB8N70cdJX",
    "outputId": "d25e084b-d710-4204-b6dd-f1e196c69305"
   },
   "outputs": [
    {
     "data": {
      "text/html": [
       "<div>\n",
       "<style scoped>\n",
       "    .dataframe tbody tr th:only-of-type {\n",
       "        vertical-align: middle;\n",
       "    }\n",
       "\n",
       "    .dataframe tbody tr th {\n",
       "        vertical-align: top;\n",
       "    }\n",
       "\n",
       "    .dataframe thead th {\n",
       "        text-align: right;\n",
       "    }\n",
       "</style>\n",
       "<table border=\"1\" class=\"dataframe\">\n",
       "  <thead>\n",
       "    <tr style=\"text-align: right;\">\n",
       "      <th></th>\n",
       "      <th>Ref.No</th>\n",
       "      <th>X1</th>\n",
       "      <th>X2</th>\n",
       "      <th>X3</th>\n",
       "      <th>X4</th>\n",
       "      <th>X5</th>\n",
       "      <th>X6</th>\n",
       "      <th>X7</th>\n",
       "      <th>Y</th>\n",
       "      <th>X8</th>\n",
       "      <th>X9</th>\n",
       "      <th>X10</th>\n",
       "      <th>X11</th>\n",
       "      <th>X12</th>\n",
       "      <th>X13</th>\n",
       "      <th>X14</th>\n",
       "      <th>X15</th>\n",
       "    </tr>\n",
       "  </thead>\n",
       "  <tbody>\n",
       "    <tr>\n",
       "      <th>count</th>\n",
       "      <td>21600.000000</td>\n",
       "      <td>21600.000000</td>\n",
       "      <td>21600.000000</td>\n",
       "      <td>21600.000000</td>\n",
       "      <td>21600.000000</td>\n",
       "      <td>21600.000000</td>\n",
       "      <td>21600.000000</td>\n",
       "      <td>21600.000000</td>\n",
       "      <td>21600.000000</td>\n",
       "      <td>21600.000000</td>\n",
       "      <td>21600.000000</td>\n",
       "      <td>21600.000000</td>\n",
       "      <td>21600.000000</td>\n",
       "      <td>21600.000000</td>\n",
       "      <td>21600.000000</td>\n",
       "      <td>2.160000e+04</td>\n",
       "      <td>21600.000000</td>\n",
       "    </tr>\n",
       "    <tr>\n",
       "      <th>mean</th>\n",
       "      <td>12000.773750</td>\n",
       "      <td>165235.818519</td>\n",
       "      <td>1.626991</td>\n",
       "      <td>1.845926</td>\n",
       "      <td>1.558704</td>\n",
       "      <td>35.382361</td>\n",
       "      <td>-0.002917</td>\n",
       "      <td>-0.124028</td>\n",
       "      <td>0.223796</td>\n",
       "      <td>-0.157176</td>\n",
       "      <td>-0.214213</td>\n",
       "      <td>-0.254028</td>\n",
       "      <td>-0.280139</td>\n",
       "      <td>50382.807546</td>\n",
       "      <td>48332.562407</td>\n",
       "      <td>4.607888e+04</td>\n",
       "      <td>42103.725417</td>\n",
       "    </tr>\n",
       "    <tr>\n",
       "      <th>std</th>\n",
       "      <td>6931.541584</td>\n",
       "      <td>129013.755215</td>\n",
       "      <td>0.483616</td>\n",
       "      <td>0.781139</td>\n",
       "      <td>0.522008</td>\n",
       "      <td>9.266769</td>\n",
       "      <td>1.126164</td>\n",
       "      <td>1.201892</td>\n",
       "      <td>0.416797</td>\n",
       "      <td>1.203906</td>\n",
       "      <td>1.165579</td>\n",
       "      <td>1.137746</td>\n",
       "      <td>1.157968</td>\n",
       "      <td>72570.827360</td>\n",
       "      <td>70167.264656</td>\n",
       "      <td>6.812077e+04</td>\n",
       "      <td>62928.222402</td>\n",
       "    </tr>\n",
       "    <tr>\n",
       "      <th>min</th>\n",
       "      <td>1.000000</td>\n",
       "      <td>10000.000000</td>\n",
       "      <td>1.000000</td>\n",
       "      <td>0.000000</td>\n",
       "      <td>0.000000</td>\n",
       "      <td>21.000000</td>\n",
       "      <td>-2.000000</td>\n",
       "      <td>-2.000000</td>\n",
       "      <td>0.000000</td>\n",
       "      <td>-2.000000</td>\n",
       "      <td>-2.000000</td>\n",
       "      <td>-2.000000</td>\n",
       "      <td>-2.000000</td>\n",
       "      <td>-165580.000000</td>\n",
       "      <td>-69777.000000</td>\n",
       "      <td>-1.572640e+05</td>\n",
       "      <td>-170000.000000</td>\n",
       "    </tr>\n",
       "    <tr>\n",
       "      <th>25%</th>\n",
       "      <td>6008.750000</td>\n",
       "      <td>50000.000000</td>\n",
       "      <td>1.000000</td>\n",
       "      <td>1.000000</td>\n",
       "      <td>1.000000</td>\n",
       "      <td>28.000000</td>\n",
       "      <td>-1.000000</td>\n",
       "      <td>-1.000000</td>\n",
       "      <td>0.000000</td>\n",
       "      <td>-1.000000</td>\n",
       "      <td>-1.000000</td>\n",
       "      <td>-1.000000</td>\n",
       "      <td>-1.000000</td>\n",
       "      <td>3633.750000</td>\n",
       "      <td>3102.000000</td>\n",
       "      <td>2.778000e+03</td>\n",
       "      <td>2311.500000</td>\n",
       "    </tr>\n",
       "    <tr>\n",
       "      <th>50%</th>\n",
       "      <td>12001.500000</td>\n",
       "      <td>140000.000000</td>\n",
       "      <td>2.000000</td>\n",
       "      <td>2.000000</td>\n",
       "      <td>2.000000</td>\n",
       "      <td>34.000000</td>\n",
       "      <td>0.000000</td>\n",
       "      <td>0.000000</td>\n",
       "      <td>0.000000</td>\n",
       "      <td>0.000000</td>\n",
       "      <td>0.000000</td>\n",
       "      <td>0.000000</td>\n",
       "      <td>0.000000</td>\n",
       "      <td>22182.000000</td>\n",
       "      <td>21095.500000</td>\n",
       "      <td>1.997800e+04</td>\n",
       "      <td>18893.000000</td>\n",
       "    </tr>\n",
       "    <tr>\n",
       "      <th>75%</th>\n",
       "      <td>17995.250000</td>\n",
       "      <td>230000.000000</td>\n",
       "      <td>2.000000</td>\n",
       "      <td>2.000000</td>\n",
       "      <td>2.000000</td>\n",
       "      <td>41.000000</td>\n",
       "      <td>0.000000</td>\n",
       "      <td>0.000000</td>\n",
       "      <td>0.000000</td>\n",
       "      <td>0.000000</td>\n",
       "      <td>0.000000</td>\n",
       "      <td>0.000000</td>\n",
       "      <td>0.000000</td>\n",
       "      <td>65073.250000</td>\n",
       "      <td>61886.750000</td>\n",
       "      <td>5.879275e+04</td>\n",
       "      <td>51549.000000</td>\n",
       "    </tr>\n",
       "    <tr>\n",
       "      <th>max</th>\n",
       "      <td>24000.000000</td>\n",
       "      <td>1000000.000000</td>\n",
       "      <td>2.000000</td>\n",
       "      <td>6.000000</td>\n",
       "      <td>3.000000</td>\n",
       "      <td>79.000000</td>\n",
       "      <td>8.000000</td>\n",
       "      <td>8.000000</td>\n",
       "      <td>1.000000</td>\n",
       "      <td>8.000000</td>\n",
       "      <td>8.000000</td>\n",
       "      <td>8.000000</td>\n",
       "      <td>8.000000</td>\n",
       "      <td>964511.000000</td>\n",
       "      <td>983931.000000</td>\n",
       "      <td>1.664089e+06</td>\n",
       "      <td>891586.000000</td>\n",
       "    </tr>\n",
       "  </tbody>\n",
       "</table>\n",
       "</div>"
      ],
      "text/plain": [
       "             Ref.No              X1            X2            X3            X4  \\\n",
       "count  21600.000000    21600.000000  21600.000000  21600.000000  21600.000000   \n",
       "mean   12000.773750   165235.818519      1.626991      1.845926      1.558704   \n",
       "std     6931.541584   129013.755215      0.483616      0.781139      0.522008   \n",
       "min        1.000000    10000.000000      1.000000      0.000000      0.000000   \n",
       "25%     6008.750000    50000.000000      1.000000      1.000000      1.000000   \n",
       "50%    12001.500000   140000.000000      2.000000      2.000000      2.000000   \n",
       "75%    17995.250000   230000.000000      2.000000      2.000000      2.000000   \n",
       "max    24000.000000  1000000.000000      2.000000      6.000000      3.000000   \n",
       "\n",
       "                 X5            X6            X7             Y            X8  \\\n",
       "count  21600.000000  21600.000000  21600.000000  21600.000000  21600.000000   \n",
       "mean      35.382361     -0.002917     -0.124028      0.223796     -0.157176   \n",
       "std        9.266769      1.126164      1.201892      0.416797      1.203906   \n",
       "min       21.000000     -2.000000     -2.000000      0.000000     -2.000000   \n",
       "25%       28.000000     -1.000000     -1.000000      0.000000     -1.000000   \n",
       "50%       34.000000      0.000000      0.000000      0.000000      0.000000   \n",
       "75%       41.000000      0.000000      0.000000      0.000000      0.000000   \n",
       "max       79.000000      8.000000      8.000000      1.000000      8.000000   \n",
       "\n",
       "                 X9           X10           X11            X12            X13  \\\n",
       "count  21600.000000  21600.000000  21600.000000   21600.000000   21600.000000   \n",
       "mean      -0.214213     -0.254028     -0.280139   50382.807546   48332.562407   \n",
       "std        1.165579      1.137746      1.157968   72570.827360   70167.264656   \n",
       "min       -2.000000     -2.000000     -2.000000 -165580.000000  -69777.000000   \n",
       "25%       -1.000000     -1.000000     -1.000000    3633.750000    3102.000000   \n",
       "50%        0.000000      0.000000      0.000000   22182.000000   21095.500000   \n",
       "75%        0.000000      0.000000      0.000000   65073.250000   61886.750000   \n",
       "max        8.000000      8.000000      8.000000  964511.000000  983931.000000   \n",
       "\n",
       "                X14            X15  \n",
       "count  2.160000e+04   21600.000000  \n",
       "mean   4.607888e+04   42103.725417  \n",
       "std    6.812077e+04   62928.222402  \n",
       "min   -1.572640e+05 -170000.000000  \n",
       "25%    2.778000e+03    2311.500000  \n",
       "50%    1.997800e+04   18893.000000  \n",
       "75%    5.879275e+04   51549.000000  \n",
       "max    1.664089e+06  891586.000000  "
      ]
     },
     "execution_count": 48,
     "metadata": {},
     "output_type": "execute_result"
    }
   ],
   "source": [
    "ntrain.describe()"
   ]
  },
  {
   "cell_type": "code",
   "execution_count": 49,
   "metadata": {
    "colab": {
     "base_uri": "https://localhost:8080/",
     "height": 1000
    },
    "colab_type": "code",
    "id": "jBCTDT2sck91",
    "outputId": "629645cc-1fe2-4e43-f72a-587d445f315a"
   },
   "outputs": [
    {
     "data": {
      "image/png": "[encoded data removed]",
      "text/plain": [
       "<Figure size 432x288 with 1 Axes>"
      ]
     },
     "metadata": {
      "needs_background": "light"
     },
     "output_type": "display_data"
    },
    {
     "data": {
      "image/png": "[encoded data removed]",
      "text/plain": [
       "<Figure size 432x288 with 1 Axes>"
      ]
     },
     "metadata": {
      "needs_background": "light"
     },
     "output_type": "display_data"
    },
    {
     "data": {
      "image/png": "[encoded data removed]",
      "text/plain": [
       "<Figure size 432x288 with 1 Axes>"
      ]
     },
     "metadata": {
      "needs_background": "light"
     },
     "output_type": "display_data"
    },
    {
     "data": {
      "image/png": "[encoded data removed]",
      "text/plain": [
       "<Figure size 432x288 with 1 Axes>"
      ]
     },
     "metadata": {
      "needs_background": "light"
     },
     "output_type": "display_data"
    }
   ],
   "source": [
    "for col in ['X12', 'X13', 'X14', 'X15']:\n",
    "  sns.boxplot(ntrain[col], )\n",
    "  plt.show()"
   ]
  },
  {
   "cell_type": "code",
   "execution_count": 50,
   "metadata": {
    "colab": {},
    "colab_type": "code",
    "id": "xok-R9bzeORB"
   },
   "outputs": [],
   "source": [
    "ntrain.drop('Ref.No', axis=1, inplace=True)"
   ]
  },
  {
   "cell_type": "code",
   "execution_count": 51,
   "metadata": {
    "colab": {
     "base_uri": "https://localhost:8080/",
     "height": 196
    },
    "colab_type": "code",
    "id": "e7AQYD9B8ghd",
    "outputId": "742048ce-16c0-460a-805c-22e65333cbcb"
   },
   "outputs": [
    {
     "data": {
      "text/html": [
       "<div>\n",
       "<style scoped>\n",
       "    .dataframe tbody tr th:only-of-type {\n",
       "        vertical-align: middle;\n",
       "    }\n",
       "\n",
       "    .dataframe tbody tr th {\n",
       "        vertical-align: top;\n",
       "    }\n",
       "\n",
       "    .dataframe thead th {\n",
       "        text-align: right;\n",
       "    }\n",
       "</style>\n",
       "<table border=\"1\" class=\"dataframe\">\n",
       "  <thead>\n",
       "    <tr style=\"text-align: right;\">\n",
       "      <th></th>\n",
       "      <th>X1</th>\n",
       "      <th>X2</th>\n",
       "      <th>X3</th>\n",
       "      <th>X4</th>\n",
       "      <th>X5</th>\n",
       "      <th>X6</th>\n",
       "      <th>X7</th>\n",
       "      <th>Y</th>\n",
       "      <th>X8</th>\n",
       "      <th>X9</th>\n",
       "      <th>X10</th>\n",
       "      <th>X11</th>\n",
       "      <th>X12</th>\n",
       "      <th>X13</th>\n",
       "      <th>X14</th>\n",
       "      <th>X15</th>\n",
       "    </tr>\n",
       "  </thead>\n",
       "  <tbody>\n",
       "    <tr>\n",
       "      <th>0</th>\n",
       "      <td>320000</td>\n",
       "      <td>2</td>\n",
       "      <td>1</td>\n",
       "      <td>2</td>\n",
       "      <td>27</td>\n",
       "      <td>1</td>\n",
       "      <td>2</td>\n",
       "      <td>1</td>\n",
       "      <td>2</td>\n",
       "      <td>2</td>\n",
       "      <td>2</td>\n",
       "      <td>2</td>\n",
       "      <td>43243</td>\n",
       "      <td>42537</td>\n",
       "      <td>41370</td>\n",
       "      <td>40694</td>\n",
       "    </tr>\n",
       "    <tr>\n",
       "      <th>1</th>\n",
       "      <td>470000</td>\n",
       "      <td>1</td>\n",
       "      <td>2</td>\n",
       "      <td>1</td>\n",
       "      <td>41</td>\n",
       "      <td>-2</td>\n",
       "      <td>-2</td>\n",
       "      <td>0</td>\n",
       "      <td>-2</td>\n",
       "      <td>-2</td>\n",
       "      <td>-2</td>\n",
       "      <td>-1</td>\n",
       "      <td>13780</td>\n",
       "      <td>12242</td>\n",
       "      <td>32463</td>\n",
       "      <td>20621</td>\n",
       "    </tr>\n",
       "    <tr>\n",
       "      <th>2</th>\n",
       "      <td>20000</td>\n",
       "      <td>1</td>\n",
       "      <td>2</td>\n",
       "      <td>2</td>\n",
       "      <td>25</td>\n",
       "      <td>1</td>\n",
       "      <td>2</td>\n",
       "      <td>0</td>\n",
       "      <td>0</td>\n",
       "      <td>0</td>\n",
       "      <td>0</td>\n",
       "      <td>0</td>\n",
       "      <td>20415</td>\n",
       "      <td>18266</td>\n",
       "      <td>18921</td>\n",
       "      <td>19297</td>\n",
       "    </tr>\n",
       "    <tr>\n",
       "      <th>3</th>\n",
       "      <td>80000</td>\n",
       "      <td>1</td>\n",
       "      <td>3</td>\n",
       "      <td>1</td>\n",
       "      <td>41</td>\n",
       "      <td>0</td>\n",
       "      <td>0</td>\n",
       "      <td>1</td>\n",
       "      <td>0</td>\n",
       "      <td>0</td>\n",
       "      <td>0</td>\n",
       "      <td>-1</td>\n",
       "      <td>76015</td>\n",
       "      <td>77582</td>\n",
       "      <td>60311</td>\n",
       "      <td>62471</td>\n",
       "    </tr>\n",
       "    <tr>\n",
       "      <th>4</th>\n",
       "      <td>30000</td>\n",
       "      <td>1</td>\n",
       "      <td>1</td>\n",
       "      <td>2</td>\n",
       "      <td>30</td>\n",
       "      <td>1</td>\n",
       "      <td>-2</td>\n",
       "      <td>1</td>\n",
       "      <td>-2</td>\n",
       "      <td>-2</td>\n",
       "      <td>-2</td>\n",
       "      <td>-2</td>\n",
       "      <td>0</td>\n",
       "      <td>0</td>\n",
       "      <td>0</td>\n",
       "      <td>0</td>\n",
       "    </tr>\n",
       "  </tbody>\n",
       "</table>\n",
       "</div>"
      ],
      "text/plain": [
       "       X1  X2  X3  X4  X5  X6  X7  Y  X8  X9  X10  X11    X12    X13    X14  \\\n",
       "0  320000   2   1   2  27   1   2  1   2   2    2    2  43243  42537  41370   \n",
       "1  470000   1   2   1  41  -2  -2  0  -2  -2   -2   -1  13780  12242  32463   \n",
       "2   20000   1   2   2  25   1   2  0   0   0    0    0  20415  18266  18921   \n",
       "3   80000   1   3   1  41   0   0  1   0   0    0   -1  76015  77582  60311   \n",
       "4   30000   1   1   2  30   1  -2  1  -2  -2   -2   -2      0      0      0   \n",
       "\n",
       "     X15  \n",
       "0  40694  \n",
       "1  20621  \n",
       "2  19297  \n",
       "3  62471  \n",
       "4      0  "
      ]
     },
     "execution_count": 51,
     "metadata": {},
     "output_type": "execute_result"
    }
   ],
   "source": [
    "ntrain.head()"
   ]
  },
  {
   "cell_type": "code",
   "execution_count": 52,
   "metadata": {
    "colab": {},
    "colab_type": "code",
    "id": "Iwpu9hKkAVDr"
   },
   "outputs": [],
   "source": [
    "x = ntrain.drop('Y', axis=1)\n",
    "y = ntrain['Y']"
   ]
  },
  {
   "cell_type": "code",
   "execution_count": 53,
   "metadata": {
    "colab": {},
    "colab_type": "code",
    "id": "6XSgAyHrBnhN"
   },
   "outputs": [],
   "source": [
    "x_train, x_test, y_train, y_test = train_test_split(x,y, random_state=11, test_size=0.2)"
   ]
  },
  {
   "cell_type": "code",
   "execution_count": 54,
   "metadata": {
    "colab": {
     "base_uri": "https://localhost:8080/",
     "height": 84
    },
    "colab_type": "code",
    "id": "39XAD1J-C_pf",
    "outputId": "0e03f889-e294-4bc3-f992-19016717e8ba"
   },
   "outputs": [
    {
     "name": "stdout",
     "output_type": "stream",
     "text": [
      "(17280, 15)\n",
      "(4320, 15)\n",
      "(17280,)\n",
      "(4320,)\n"
     ]
    }
   ],
   "source": [
    "print(x_train.shape)\n",
    "print(x_test.shape)\n",
    "print(y_train.shape)\n",
    "print(y_test.shape)"
   ]
  },
  {
   "cell_type": "code",
   "execution_count": 55,
   "metadata": {
    "colab": {},
    "colab_type": "code",
    "id": "B2DUIG85C5wH"
   },
   "outputs": [],
   "source": [
    "s = StandardScaler()\n",
    "st = s.fit_transform(x_train)\n",
    "ste = s.fit_transform(x_test)"
   ]
  },
  {
   "cell_type": "code",
   "execution_count": 56,
   "metadata": {
    "colab": {},
    "colab_type": "code",
    "id": "cvqaOCqqBzmg"
   },
   "outputs": [],
   "source": [
    "lr = LogisticRegression()\n",
    "lr.fit(st, y_train)\n",
    "pred_lr = lr.predict(ste)"
   ]
  },
  {
   "cell_type": "code",
   "execution_count": 57,
   "metadata": {
    "colab": {
     "base_uri": "https://localhost:8080/",
     "height": 33
    },
    "colab_type": "code",
    "id": "0PpQwoGlDlF-",
    "outputId": "0dfb82e7-a4ab-4ad2-f71e-696da9664fad"
   },
   "outputs": [
    {
     "data": {
      "text/plain": [
       "0.805787037037037"
      ]
     },
     "execution_count": 57,
     "metadata": {},
     "output_type": "execute_result"
    }
   ],
   "source": [
    "accuracy_score(y_test, pred_lr)"
   ]
  },
  {
   "cell_type": "code",
   "execution_count": 58,
   "metadata": {
    "colab": {},
    "colab_type": "code",
    "id": "hsf5N572DqYe"
   },
   "outputs": [],
   "source": [
    "rf = RandomForestClassifier()\n",
    "rf.fit(st, y_train)\n",
    "pred_rf = rf.predict(ste)"
   ]
  },
  {
   "cell_type": "code",
   "execution_count": 59,
   "metadata": {
    "colab": {
     "base_uri": "https://localhost:8080/",
     "height": 33
    },
    "colab_type": "code",
    "id": "aTZ0tcIMEDRi",
    "outputId": "d9bc18b7-3933-4abf-f4c6-6fa996e4b5b5"
   },
   "outputs": [
    {
     "data": {
      "text/plain": [
       "0.8037037037037037"
      ]
     },
     "execution_count": 59,
     "metadata": {},
     "output_type": "execute_result"
    }
   ],
   "source": [
    "accuracy_score(y_test, pred_rf)"
   ]
  },
  {
   "cell_type": "code",
   "execution_count": null,
   "metadata": {
    "colab": {},
    "colab_type": "code",
    "id": "SR5mueJOEGOW"
   },
   "outputs": [],
   "source": [
    "param = {'n_estimators': np.arange(10,25),'criterion':['gini','entropy'], 'max_depth': range(2, 7), 'random_state': range(1, 50)}\n",
    "\n",
    "grid1 = GridSearchCV(estimator=rf, param_grid=param, cv=5, scoring='accuracy')\n",
    "grid1.fit(st,y_train)\n",
    "print(grid1.best_params_)"
   ]
  },
  {
   "cell_type": "code",
   "execution_count": null,
   "metadata": {
    "colab": {},
    "colab_type": "code",
    "id": "9q_0BJLbGNic"
   },
   "outputs": [],
   "source": [
    "rf = RandomForestClassifier(n_estimators=22, criterion='entropy', verbose=0, n_jobs=-1)\n",
    "rf.fit(st, y_train)\n",
    "pred_rf = rf.predict(ste)"
   ]
  },
  {
   "cell_type": "code",
   "execution_count": null,
   "metadata": {
    "colab": {
     "base_uri": "https://localhost:8080/",
     "height": 33
    },
    "colab_type": "code",
    "id": "DEoSblBGOn0K",
    "outputId": "995c31d8-9477-4165-8a1f-7bdbd79c7f43"
   },
   "outputs": [],
   "source": [
    "accuracy_score(y_test, pred_rf)"
   ]
  },
  {
   "cell_type": "code",
   "execution_count": 0,
   "metadata": {
    "colab": {},
    "colab_type": "code",
    "id": "q5LUEiP3OqjY"
   },
   "outputs": [],
   "source": [
    "citi_test = pd.read_csv(path1)"
   ]
  },
  {
   "cell_type": "code",
   "execution_count": 0,
   "metadata": {
    "colab": {},
    "colab_type": "code",
    "id": "5X6vwv8FO-Io"
   },
   "outputs": [],
   "source": [
    "req = citi_test.iloc[:, 1:16]"
   ]
  },
  {
   "cell_type": "code",
   "execution_count": 0,
   "metadata": {
    "colab": {
     "base_uri": "https://localhost:8080/",
     "height": 33
    },
    "colab_type": "code",
    "id": "ltCxZ0G1PSuq",
    "outputId": "ff0e9714-42e1-499e-9ccd-92e5bc7c18eb"
   },
   "outputs": [
    {
     "data": {
      "text/plain": [
       "(2399, 15)"
      ]
     },
     "execution_count": 96,
     "metadata": {
      "tags": []
     },
     "output_type": "execute_result"
    }
   ],
   "source": [
    "req.shape"
   ]
  },
  {
   "cell_type": "code",
   "execution_count": 0,
   "metadata": {
    "colab": {},
    "colab_type": "code",
    "id": "pvQDRDsWPoDf"
   },
   "outputs": [],
   "source": [
    "s =StandardScaler()\n",
    "req_s = s.fit_transform(req)"
   ]
  },
  {
   "cell_type": "code",
   "execution_count": 0,
   "metadata": {
    "colab": {
     "base_uri": "https://localhost:8080/",
     "height": 33
    },
    "colab_type": "code",
    "id": "HuFFEfWVP8nH",
    "outputId": "fc05084e-38e1-42de-ed3a-cb37711a351f"
   },
   "outputs": [
    {
     "data": {
      "text/plain": [
       "(2399, 15)"
      ]
     },
     "execution_count": 98,
     "metadata": {
      "tags": []
     },
     "output_type": "execute_result"
    }
   ],
   "source": [
    "req_s.shape"
   ]
  },
  {
   "cell_type": "code",
   "execution_count": 0,
   "metadata": {
    "colab": {},
    "colab_type": "code",
    "id": "_I8khVXRP-Jt"
   },
   "outputs": [],
   "source": [
    "pred_rf_f = rf.predict(req_s)"
   ]
  },
  {
   "cell_type": "code",
   "execution_count": 0,
   "metadata": {
    "colab": {},
    "colab_type": "code",
    "id": "KP_3xHE_QDig"
   },
   "outputs": [],
   "source": [
    "# submission\n",
    "sample = pd.read_csv(\"/content/drive/My Drive/Colab Notebooks/sample_submission.csv\")\n",
    "solution = pd.DataFrame({'ref.no':sample['Ref.No'], 'Y':pred_rf_f})\n",
    "# export to kaggle\n",
    "solution.to_csv('citi_rf(2).csv', index= False)"
   ]
  },
  {
   "cell_type": "code",
   "execution_count": 0,
   "metadata": {
    "colab": {},
    "colab_type": "code",
    "id": "WwalHW6-QQAD"
   },
   "outputs": [],
   "source": []
  }
 ],
 "metadata": {
  "colab": {
   "collapsed_sections": [],
   "name": "citibank defaulters.ipynb",
   "provenance": [],
   "version": "0.3.2"
  },
  "kernelspec": {
   "display_name": "Python 3",
   "language": "python",
   "name": "python3"
  },
  "language_info": {
   "codemirror_mode": {
    "name": "ipython",
    "version": 3
   },
   "file_extension": ".py",
   "mimetype": "text/x-python",
   "name": "python",
   "nbconvert_exporter": "python",
   "pygments_lexer": "ipython3",
   "version": "3.7.3"
  }
 },
 "nbformat": 4,
 "nbformat_minor": 1
}
